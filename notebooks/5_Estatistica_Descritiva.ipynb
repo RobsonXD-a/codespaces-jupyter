{
  "cells": [
    {
      "cell_type": "markdown",
      "metadata": {
        "id": "jN8oak-uBpS-"
      },
      "source": [
        "# Noções básicas de Estatística\n",
        "\n",
        "A Estatística é um ramo da Matemática que tem um papel fundamental nas pesquisas científicas.\n",
        "\n",
        "Vamos ver um exemplo onde a Estatística é utilizada.\n",
        "\n",
        "Este exemplo é de um ramo da Estatística conhecido como **Inferência Estatística**.\n",
        "\n",
        "Suponha que você queira saber a média das alturas dos brasileiros de 18 anos.\n",
        "\n",
        "> O que você faria?\n",
        "\n",
        "Uma maneira direta seria: medir a altura de todos os brasileiros de 18 anos e calcular a média.\n",
        "\n",
        "> O que você acha disso?\n",
        "\n",
        "Apesar desta maneira ser matematicamente correta, ela é totalmente inviável.\n",
        "\n",
        "> Então, o que fazer?\n",
        "\n",
        "Na prática, é possível trabalhar apenas com uma pequena parte da população. Essa pequena parte é chamada de amostra e iremos calcular a média apenas dessa amostra?\n",
        "\n",
        "> Mas como saber se o que valor para a média da amostra é próximo da média da população?\n",
        "\n",
        "Os métodos de Inferência Estatística nos auxiliam a decidir como escolher a amostra para que possamos obter um valor relevante para a média que queremos calcular."
      ]
    },
    {
      "cell_type": "markdown",
      "metadata": {
        "id": "xP0rNm_JBpS_"
      },
      "source": [
        "Outro papel fundamental da Estatística é relacionado à descrição de dados. Isso é feito através de cálculos de funções estatísticas (como média, desvio padrão, etc), por representações gráficas, dentre outros.\n",
        "\n",
        "Nesta unidade, o nosso foco será nessa parte da Estatística."
      ]
    },
    {
      "cell_type": "markdown",
      "metadata": {
        "id": "6_23eOG4noj9"
      },
      "source": [
        "<hr>"
      ]
    },
    {
      "cell_type": "markdown",
      "metadata": {
        "id": "z8i1DtpMz7ln"
      },
      "source": [
        "# Média, mediana, quartis, moda"
      ]
    },
    {
      "cell_type": "markdown",
      "metadata": {
        "id": "DEIDP9EBBpTA"
      },
      "source": [
        "\n",
        "## Média e Mediana\n",
        "\n",
        "Suponha que você fez uma prova e o professor disponibilizou uma planilha com notas.\n",
        "\n",
        "Vamos importar a biblioteca e carregar a planilha:"
      ]
    },
    {
      "cell_type": "code",
      "execution_count": 3,
      "metadata": {
        "id": "vLtujRyVBpTG"
      },
      "outputs": [
        {
          "data": {
            "text/html": [
              "<div>\n",
              "<style scoped>\n",
              "    .dataframe tbody tr th:only-of-type {\n",
              "        vertical-align: middle;\n",
              "    }\n",
              "\n",
              "    .dataframe tbody tr th {\n",
              "        vertical-align: top;\n",
              "    }\n",
              "\n",
              "    .dataframe thead th {\n",
              "        text-align: right;\n",
              "    }\n",
              "</style>\n",
              "<table border=\"1\" class=\"dataframe\">\n",
              "  <thead>\n",
              "    <tr style=\"text-align: right;\">\n",
              "      <th></th>\n",
              "      <th>Aluno</th>\n",
              "      <th>Nota</th>\n",
              "    </tr>\n",
              "  </thead>\n",
              "  <tbody>\n",
              "    <tr>\n",
              "      <th>0</th>\n",
              "      <td>1</td>\n",
              "      <td>40.0</td>\n",
              "    </tr>\n",
              "    <tr>\n",
              "      <th>1</th>\n",
              "      <td>2</td>\n",
              "      <td>45.0</td>\n",
              "    </tr>\n",
              "    <tr>\n",
              "      <th>2</th>\n",
              "      <td>3</td>\n",
              "      <td>20.0</td>\n",
              "    </tr>\n",
              "    <tr>\n",
              "      <th>3</th>\n",
              "      <td>4</td>\n",
              "      <td>35.0</td>\n",
              "    </tr>\n",
              "    <tr>\n",
              "      <th>4</th>\n",
              "      <td>5</td>\n",
              "      <td>30.0</td>\n",
              "    </tr>\n",
              "    <tr>\n",
              "      <th>5</th>\n",
              "      <td>6</td>\n",
              "      <td>25.0</td>\n",
              "    </tr>\n",
              "    <tr>\n",
              "      <th>6</th>\n",
              "      <td>7</td>\n",
              "      <td>30.0</td>\n",
              "    </tr>\n",
              "    <tr>\n",
              "      <th>7</th>\n",
              "      <td>8</td>\n",
              "      <td>90.0</td>\n",
              "    </tr>\n",
              "    <tr>\n",
              "      <th>8</th>\n",
              "      <td>9</td>\n",
              "      <td>100.0</td>\n",
              "    </tr>\n",
              "    <tr>\n",
              "      <th>9</th>\n",
              "      <td>10</td>\n",
              "      <td>90.0</td>\n",
              "    </tr>\n",
              "  </tbody>\n",
              "</table>\n",
              "</div>"
            ],
            "text/plain": [
              "   Aluno   Nota\n",
              "0      1   40.0\n",
              "1      2   45.0\n",
              "2      3   20.0\n",
              "3      4   35.0\n",
              "4      5   30.0\n",
              "5      6   25.0\n",
              "6      7   30.0\n",
              "7      8   90.0\n",
              "8      9  100.0\n",
              "9     10   90.0"
            ]
          },
          "execution_count": 3,
          "metadata": {},
          "output_type": "execute_result"
        }
      ],
      "source": [
        "import pandas as pd\n",
        "df = pd.read_csv(\"https://drive.google.com/u/1/uc?id=16Xv85THn5BF1bBDDXLTT8nGxCP321QPv&export=download\")\n",
        "df\n",
        "\n"
      ]
    },
    {
      "cell_type": "markdown",
      "metadata": {
        "id": "djp83blEBpTP"
      },
      "source": [
        "> Depois de ver a sua nota (claro :-D), o que você calcula para saber como a turma foi como um todo?\n",
        "\n",
        "Em geral, calculamos a média. Então acessamos a coluna de notas e calculamos a média.\n",
        "\n",
        "Para acessar a coluna de notas:"
      ]
    },
    {
      "cell_type": "code",
      "execution_count": 4,
      "metadata": {
        "id": "xxNGlNUtBpTP"
      },
      "outputs": [
        {
          "data": {
            "text/plain": [
              "0     40.0\n",
              "1     45.0\n",
              "2     20.0\n",
              "3     35.0\n",
              "4     30.0\n",
              "5     25.0\n",
              "6     30.0\n",
              "7     90.0\n",
              "8    100.0\n",
              "9     90.0\n",
              "Name: Nota, dtype: float64"
            ]
          },
          "execution_count": 4,
          "metadata": {},
          "output_type": "execute_result"
        }
      ],
      "source": [
        "df[\"Nota\"]"
      ]
    },
    {
      "cell_type": "markdown",
      "metadata": {
        "id": "u0U81gIzD-ar"
      },
      "source": [
        "Para calcular a média:"
      ]
    },
    {
      "cell_type": "code",
      "execution_count": 5,
      "metadata": {
        "id": "T1a6pvm7EBNt"
      },
      "outputs": [
        {
          "data": {
            "text/plain": [
              "np.float64(50.5)"
            ]
          },
          "execution_count": 5,
          "metadata": {},
          "output_type": "execute_result"
        }
      ],
      "source": [
        "df[\"Nota\"].mean()"
      ]
    },
    {
      "cell_type": "markdown",
      "metadata": {
        "id": "FUN1dsydBpTR"
      },
      "source": [
        "A média é uma **medida de tendência central**.\n",
        "\n",
        "A partir de medidas de tendência central, tentamos descobrir os valores ***típicos*** dos dados.\n",
        "\n",
        "> Mas, no nosso caso, você acha que a média que obtivemos descreve bem a nota  \"típica\"?\n",
        "\n",
        "Vamos ver a planilha ordenada por nota:"
      ]
    },
    {
      "cell_type": "code",
      "execution_count": 6,
      "metadata": {
        "id": "ge7zH7HyBpTS"
      },
      "outputs": [
        {
          "data": {
            "text/html": [
              "<div>\n",
              "<style scoped>\n",
              "    .dataframe tbody tr th:only-of-type {\n",
              "        vertical-align: middle;\n",
              "    }\n",
              "\n",
              "    .dataframe tbody tr th {\n",
              "        vertical-align: top;\n",
              "    }\n",
              "\n",
              "    .dataframe thead th {\n",
              "        text-align: right;\n",
              "    }\n",
              "</style>\n",
              "<table border=\"1\" class=\"dataframe\">\n",
              "  <thead>\n",
              "    <tr style=\"text-align: right;\">\n",
              "      <th></th>\n",
              "      <th>Aluno</th>\n",
              "      <th>Nota</th>\n",
              "    </tr>\n",
              "  </thead>\n",
              "  <tbody>\n",
              "    <tr>\n",
              "      <th>2</th>\n",
              "      <td>3</td>\n",
              "      <td>20.0</td>\n",
              "    </tr>\n",
              "    <tr>\n",
              "      <th>5</th>\n",
              "      <td>6</td>\n",
              "      <td>25.0</td>\n",
              "    </tr>\n",
              "    <tr>\n",
              "      <th>4</th>\n",
              "      <td>5</td>\n",
              "      <td>30.0</td>\n",
              "    </tr>\n",
              "    <tr>\n",
              "      <th>6</th>\n",
              "      <td>7</td>\n",
              "      <td>30.0</td>\n",
              "    </tr>\n",
              "    <tr>\n",
              "      <th>3</th>\n",
              "      <td>4</td>\n",
              "      <td>35.0</td>\n",
              "    </tr>\n",
              "    <tr>\n",
              "      <th>0</th>\n",
              "      <td>1</td>\n",
              "      <td>40.0</td>\n",
              "    </tr>\n",
              "    <tr>\n",
              "      <th>1</th>\n",
              "      <td>2</td>\n",
              "      <td>45.0</td>\n",
              "    </tr>\n",
              "    <tr>\n",
              "      <th>7</th>\n",
              "      <td>8</td>\n",
              "      <td>90.0</td>\n",
              "    </tr>\n",
              "    <tr>\n",
              "      <th>9</th>\n",
              "      <td>10</td>\n",
              "      <td>90.0</td>\n",
              "    </tr>\n",
              "    <tr>\n",
              "      <th>8</th>\n",
              "      <td>9</td>\n",
              "      <td>100.0</td>\n",
              "    </tr>\n",
              "  </tbody>\n",
              "</table>\n",
              "</div>"
            ],
            "text/plain": [
              "   Aluno   Nota\n",
              "2      3   20.0\n",
              "5      6   25.0\n",
              "4      5   30.0\n",
              "6      7   30.0\n",
              "3      4   35.0\n",
              "0      1   40.0\n",
              "1      2   45.0\n",
              "7      8   90.0\n",
              "9     10   90.0\n",
              "8      9  100.0"
            ]
          },
          "execution_count": 6,
          "metadata": {},
          "output_type": "execute_result"
        }
      ],
      "source": [
        "df.sort_values(by=\"Nota\")"
      ]
    },
    {
      "cell_type": "markdown",
      "metadata": {
        "id": "z6xgF9KsBpTU"
      },
      "source": [
        "Como você pode ver, temos 7 alunos com nota baixa e 3 alunos com nota muito alta.\n",
        "\n",
        "Então, a média neste caso não descreve bem o que está acontecendo!\n",
        "\n",
        "Uma outra medida de tendência central é a **mediana**:\n",
        "\n",
        "Ela é calculada da seguinte maneira: após ordenarmos os dados\n",
        "\n",
        "- Se a quantidade de dados for ímpar, a mediana é o valor exatamente na posição do meio.\n",
        "\n",
        "- Se a quantidade de dados for par, a mediana é a média dos dois valores mais centrais.\n",
        "\n",
        "\n",
        "Exemplo:\n",
        "- para (3,4,6) , a mediana é 4\n",
        "- para (1,2,3,4), a mediana é (2+3)/2 = 2.5\n",
        "\n",
        "Temos\n",
        "- $50\\%$ dos dados $\\leq$ a mediana\n",
        "- $50\\%$ dos dados $\\geq$ a mediana.\n",
        "\n",
        "Vamos calcular a mediana:"
      ]
    },
    {
      "cell_type": "code",
      "execution_count": 3,
      "metadata": {
        "id": "w6NlBToJBpTU"
      },
      "outputs": [
        {
          "data": {
            "text/plain": [
              "37.5"
            ]
          },
          "execution_count": 3,
          "metadata": {},
          "output_type": "execute_result"
        }
      ],
      "source": [
        "df[\"Nota\"].median()\n",
        "(35+40)/2"
      ]
    },
    {
      "cell_type": "markdown",
      "metadata": {
        "id": "Z8L1unh5BpTY"
      },
      "source": [
        "A mediana neste caso é muito mais baixa que a média!\n",
        "\n",
        "Então note que a partir da média e da mediana juntas. Podemos deduzir que:\n",
        "\n",
        "* A maioria dos alunos foi mal\n",
        "* Uma minoria dos alunos foi muito bem (a ponto de puxar a média para cima)"
      ]
    },
    {
      "cell_type": "markdown",
      "metadata": {
        "id": "xay0ToLNBpTY"
      },
      "source": [
        "### Exercício\n",
        "\n",
        "Considere a planilha em:\n",
        "\n",
        "https://drive.google.com/u/1/uc?id=182_Z-bL7n9itkupECYhIOEGuIjfQbF0Z&export=download\n",
        "\n",
        "Calcule a média e a mediana da temperatura.\n",
        "\n",
        "Interprete o seu resultado."
      ]
    },
    {
      "cell_type": "code",
      "execution_count": 8,
      "metadata": {
        "id": "dq82h2yfUMMq"
      },
      "outputs": [
        {
          "data": {
            "text/html": [
              "<div>\n",
              "<style scoped>\n",
              "    .dataframe tbody tr th:only-of-type {\n",
              "        vertical-align: middle;\n",
              "    }\n",
              "\n",
              "    .dataframe tbody tr th {\n",
              "        vertical-align: top;\n",
              "    }\n",
              "\n",
              "    .dataframe thead th {\n",
              "        text-align: right;\n",
              "    }\n",
              "</style>\n",
              "<table border=\"1\" class=\"dataframe\">\n",
              "  <thead>\n",
              "    <tr style=\"text-align: right;\">\n",
              "      <th></th>\n",
              "      <th>periodo</th>\n",
              "      <th>temperatura</th>\n",
              "    </tr>\n",
              "  </thead>\n",
              "  <tbody>\n",
              "    <tr>\n",
              "      <th>0</th>\n",
              "      <td>1</td>\n",
              "      <td>25</td>\n",
              "    </tr>\n",
              "    <tr>\n",
              "      <th>1</th>\n",
              "      <td>2</td>\n",
              "      <td>24</td>\n",
              "    </tr>\n",
              "    <tr>\n",
              "      <th>2</th>\n",
              "      <td>3</td>\n",
              "      <td>24</td>\n",
              "    </tr>\n",
              "    <tr>\n",
              "      <th>3</th>\n",
              "      <td>4</td>\n",
              "      <td>26</td>\n",
              "    </tr>\n",
              "    <tr>\n",
              "      <th>4</th>\n",
              "      <td>5</td>\n",
              "      <td>22</td>\n",
              "    </tr>\n",
              "  </tbody>\n",
              "</table>\n",
              "</div>"
            ],
            "text/plain": [
              "   periodo  temperatura\n",
              "0        1           25\n",
              "1        2           24\n",
              "2        3           24\n",
              "3        4           26\n",
              "4        5           22"
            ]
          },
          "execution_count": 8,
          "metadata": {},
          "output_type": "execute_result"
        }
      ],
      "source": [
        "# Sua resposta\n",
        "df= pd.read_csv(\"https://drive.google.com/u/1/uc?id=182_Z-bL7n9itkupECYhIOEGuIjfQbF0Z&export=download\")\n",
        "df.head()"
      ]
    },
    {
      "cell_type": "code",
      "execution_count": 9,
      "metadata": {},
      "outputs": [
        {
          "name": "stdout",
          "output_type": "stream",
          "text": [
            "17.966666666666665 17.5\n"
          ]
        }
      ],
      "source": [
        "media = df[\"temperatura\"].mean()\n",
        "mediana = df[\"temperatura\"].median()\n",
        "print(media, mediana)"
      ]
    },
    {
      "cell_type": "markdown",
      "metadata": {
        "id": "yu4cbqckBpTZ"
      },
      "source": [
        "## Percentis (quartis)\n",
        "\n",
        "Uma forma mais detalhada para olhar a distribuição de dados são os **percentis**.\n",
        "\n",
        "Existe mais de uma definição para percentis! Vamos apresentar uma das possibilidades.\n",
        "\n",
        "Considere um conjunto de valores valores $v_1,v_2,\\dotsc,v_{n}$ ordenados do menor para maior e um valor $P$ em $(0,100)$,\n",
        "o $P$-ésimo **percentil** é o valor na posição $P(n+1)/100$.\n",
        "\n",
        "Quando o valor posição não é um valor inteiro, o percentil é calculado a partir das posições inteiras mais próximas.\n",
        "\n",
        "A ideia é calcular uma posição que separe os $P\n",
        "\\%$ menores valores dos maiores\n",
        "\n",
        "Por exemplo, a ideia é que o $25$ᵒ percentil divida os 25% menores valores dos 75% valores maiores.\n",
        "\n",
        "Os 25ᵒ, 50ᵒ e 75ᵒ percentis são chamados de quartis.\n",
        "\n",
        "- O 25ᵒ percentil é chamado de primeiro quartil.\n",
        "- O 50ᵒ percentil é chamado de segundo quartil.\n",
        "- O 75ᵒ percentil é chamado de terceiro quartil.\n",
        "\n",
        "Para calcular os percentis, utilizamos e a função percentile. Veja como ela funciona:\n",
        "\n",
        "25ᵒ Percentil das notas:"
      ]
    },
    {
      "cell_type": "code",
      "execution_count": 16,
      "metadata": {
        "id": "NT0U_-a0BpTZ"
      },
      "outputs": [
        {
          "data": {
            "text/plain": [
              "np.float64(30.0)"
            ]
          },
          "execution_count": 16,
          "metadata": {},
          "output_type": "execute_result"
        }
      ],
      "source": [
        "import numpy as np    # precisamos de biblioteca numpy para calcular Percentil\n",
        "df = pd.read_csv(\"https://drive.google.com/u/1/uc?id=16Xv85THn5BF1bBDDXLTT8nGxCP321QPv&export=download\")\n",
        "np.percentile(df[\"Nota\"], q=25)\n",
        "\n"
      ]
    },
    {
      "cell_type": "markdown",
      "metadata": {
        "id": "bSlz3x9FBpTb"
      },
      "source": [
        "50ᵒ Percentil das notas:"
      ]
    },
    {
      "cell_type": "code",
      "execution_count": 17,
      "metadata": {
        "id": "A8xfN_6IBpTc"
      },
      "outputs": [
        {
          "data": {
            "text/plain": [
              "np.float64(37.5)"
            ]
          },
          "execution_count": 17,
          "metadata": {},
          "output_type": "execute_result"
        }
      ],
      "source": [
        "np.percentile(df[\"Nota\"],q=50)"
      ]
    },
    {
      "cell_type": "markdown",
      "metadata": {
        "id": "OZAWdUNnBpTe"
      },
      "source": [
        "75ᵒ Percentil das notas:"
      ]
    },
    {
      "cell_type": "code",
      "execution_count": null,
      "metadata": {
        "id": "LIMm5qC-BpTe"
      },
      "outputs": [],
      "source": [
        "np.percentile(df[\"Nota\"],q=75)"
      ]
    },
    {
      "cell_type": "markdown",
      "metadata": {
        "id": "H6t9N06UBpTi"
      },
      "source": [
        "### Exercício\n",
        "\n",
        "Considere a planilha em:\n",
        "\n",
        "https://drive.google.com/u/1/uc?id=182_Z-bL7n9itkupECYhIOEGuIjfQbF0Z&export=download\n",
        "\n",
        "Calcule os percentis: 25ᵒ, 50ᵒ, 75ᵒ."
      ]
    },
    {
      "cell_type": "code",
      "execution_count": 18,
      "metadata": {
        "id": "RgT7ei3YUHmn"
      },
      "outputs": [
        {
          "data": {
            "text/html": [
              "<div>\n",
              "<style scoped>\n",
              "    .dataframe tbody tr th:only-of-type {\n",
              "        vertical-align: middle;\n",
              "    }\n",
              "\n",
              "    .dataframe tbody tr th {\n",
              "        vertical-align: top;\n",
              "    }\n",
              "\n",
              "    .dataframe thead th {\n",
              "        text-align: right;\n",
              "    }\n",
              "</style>\n",
              "<table border=\"1\" class=\"dataframe\">\n",
              "  <thead>\n",
              "    <tr style=\"text-align: right;\">\n",
              "      <th></th>\n",
              "      <th>periodo</th>\n",
              "      <th>temperatura</th>\n",
              "    </tr>\n",
              "  </thead>\n",
              "  <tbody>\n",
              "    <tr>\n",
              "      <th>0</th>\n",
              "      <td>1</td>\n",
              "      <td>25</td>\n",
              "    </tr>\n",
              "    <tr>\n",
              "      <th>1</th>\n",
              "      <td>2</td>\n",
              "      <td>24</td>\n",
              "    </tr>\n",
              "    <tr>\n",
              "      <th>2</th>\n",
              "      <td>3</td>\n",
              "      <td>24</td>\n",
              "    </tr>\n",
              "    <tr>\n",
              "      <th>3</th>\n",
              "      <td>4</td>\n",
              "      <td>26</td>\n",
              "    </tr>\n",
              "    <tr>\n",
              "      <th>4</th>\n",
              "      <td>5</td>\n",
              "      <td>22</td>\n",
              "    </tr>\n",
              "  </tbody>\n",
              "</table>\n",
              "</div>"
            ],
            "text/plain": [
              "   periodo  temperatura\n",
              "0        1           25\n",
              "1        2           24\n",
              "2        3           24\n",
              "3        4           26\n",
              "4        5           22"
            ]
          },
          "execution_count": 18,
          "metadata": {},
          "output_type": "execute_result"
        }
      ],
      "source": [
        "# Sua resposta\n",
        "df = pd.read_csv(\"https://drive.google.com/u/1/uc?id=182_Z-bL7n9itkupECYhIOEGuIjfQbF0Z&export=download\")\n",
        "df.head(5)"
      ]
    },
    {
      "cell_type": "code",
      "execution_count": 19,
      "metadata": {},
      "outputs": [
        {
          "name": "stdout",
          "output_type": "stream",
          "text": [
            "15.0 17.5 20.0\n"
          ]
        }
      ],
      "source": [
        "p25=np.percentile(df[\"temperatura\"],q=25)\n",
        "p50=np.percentile(df[\"temperatura\"],q=50)\n",
        "p75=np.percentile(df[\"temperatura\"],q=75)\n",
        "print(p25,p50,p75)"
      ]
    },
    {
      "cell_type": "markdown",
      "metadata": {
        "id": "5Z6GS8KJBpTj"
      },
      "source": [
        "## Moda"
      ]
    },
    {
      "cell_type": "markdown",
      "metadata": {
        "id": "ZZvlI2YDBpTk"
      },
      "source": [
        "As modas de um conjunto de dados são os valores que aparecem com maior frequência.\n",
        "\n",
        "Ou seja, os valores que estão \"na moda\".\n",
        "\n",
        "Para calcular as modas, usamos a função ``mode()``:"
      ]
    },
    {
      "cell_type": "code",
      "execution_count": 21,
      "metadata": {
        "id": "UD2z0iL_BpTk"
      },
      "outputs": [
        {
          "data": {
            "text/plain": [
              "0    30.0\n",
              "1    90.0\n",
              "Name: Nota, dtype: float64"
            ]
          },
          "execution_count": 21,
          "metadata": {},
          "output_type": "execute_result"
        }
      ],
      "source": [
        "df = pd.read_csv(\"https://drive.google.com/u/1/uc?id=16Xv85THn5BF1bBDDXLTT8nGxCP321QPv&export=download\")\n",
        "df[\"Nota\"].mode()"
      ]
    },
    {
      "cell_type": "markdown",
      "metadata": {
        "id": "KjxF31wCBpTn"
      },
      "source": [
        "Ou seja, as notas que apareceram com maior frequência foram 30 e 90.\n",
        "\n",
        "OBS: Note que existem conjuntos com uma única moda."
      ]
    },
    {
      "cell_type": "markdown",
      "metadata": {
        "id": "Ic_-6X2wBpTn"
      },
      "source": [
        "### Exercício\n",
        "\n",
        "Considere a planilha em:\n",
        "\n",
        "https://drive.google.com/u/1/uc?id=182_Z-bL7n9itkupECYhIOEGuIjfQbF0Z&export=download\n",
        "\n",
        "Calcule as modas."
      ]
    },
    {
      "cell_type": "code",
      "execution_count": 22,
      "metadata": {
        "id": "q1l-Xe41BpTn"
      },
      "outputs": [
        {
          "data": {
            "text/html": [
              "<div>\n",
              "<style scoped>\n",
              "    .dataframe tbody tr th:only-of-type {\n",
              "        vertical-align: middle;\n",
              "    }\n",
              "\n",
              "    .dataframe tbody tr th {\n",
              "        vertical-align: top;\n",
              "    }\n",
              "\n",
              "    .dataframe thead th {\n",
              "        text-align: right;\n",
              "    }\n",
              "</style>\n",
              "<table border=\"1\" class=\"dataframe\">\n",
              "  <thead>\n",
              "    <tr style=\"text-align: right;\">\n",
              "      <th></th>\n",
              "      <th>periodo</th>\n",
              "      <th>temperatura</th>\n",
              "    </tr>\n",
              "  </thead>\n",
              "  <tbody>\n",
              "    <tr>\n",
              "      <th>0</th>\n",
              "      <td>1</td>\n",
              "      <td>25</td>\n",
              "    </tr>\n",
              "    <tr>\n",
              "      <th>1</th>\n",
              "      <td>2</td>\n",
              "      <td>24</td>\n",
              "    </tr>\n",
              "    <tr>\n",
              "      <th>2</th>\n",
              "      <td>3</td>\n",
              "      <td>24</td>\n",
              "    </tr>\n",
              "    <tr>\n",
              "      <th>3</th>\n",
              "      <td>4</td>\n",
              "      <td>26</td>\n",
              "    </tr>\n",
              "    <tr>\n",
              "      <th>4</th>\n",
              "      <td>5</td>\n",
              "      <td>22</td>\n",
              "    </tr>\n",
              "    <tr>\n",
              "      <th>5</th>\n",
              "      <td>6</td>\n",
              "      <td>20</td>\n",
              "    </tr>\n",
              "    <tr>\n",
              "      <th>6</th>\n",
              "      <td>7</td>\n",
              "      <td>14</td>\n",
              "    </tr>\n",
              "    <tr>\n",
              "      <th>7</th>\n",
              "      <td>8</td>\n",
              "      <td>13</td>\n",
              "    </tr>\n",
              "    <tr>\n",
              "      <th>8</th>\n",
              "      <td>9</td>\n",
              "      <td>14</td>\n",
              "    </tr>\n",
              "    <tr>\n",
              "      <th>9</th>\n",
              "      <td>10</td>\n",
              "      <td>12</td>\n",
              "    </tr>\n",
              "    <tr>\n",
              "      <th>10</th>\n",
              "      <td>11</td>\n",
              "      <td>15</td>\n",
              "    </tr>\n",
              "    <tr>\n",
              "      <th>11</th>\n",
              "      <td>12</td>\n",
              "      <td>17</td>\n",
              "    </tr>\n",
              "    <tr>\n",
              "      <th>12</th>\n",
              "      <td>13</td>\n",
              "      <td>21</td>\n",
              "    </tr>\n",
              "    <tr>\n",
              "      <th>13</th>\n",
              "      <td>14</td>\n",
              "      <td>20</td>\n",
              "    </tr>\n",
              "    <tr>\n",
              "      <th>14</th>\n",
              "      <td>15</td>\n",
              "      <td>19</td>\n",
              "    </tr>\n",
              "    <tr>\n",
              "      <th>15</th>\n",
              "      <td>16</td>\n",
              "      <td>20</td>\n",
              "    </tr>\n",
              "    <tr>\n",
              "      <th>16</th>\n",
              "      <td>17</td>\n",
              "      <td>20</td>\n",
              "    </tr>\n",
              "    <tr>\n",
              "      <th>17</th>\n",
              "      <td>18</td>\n",
              "      <td>17</td>\n",
              "    </tr>\n",
              "    <tr>\n",
              "      <th>18</th>\n",
              "      <td>19</td>\n",
              "      <td>18</td>\n",
              "    </tr>\n",
              "    <tr>\n",
              "      <th>19</th>\n",
              "      <td>20</td>\n",
              "      <td>18</td>\n",
              "    </tr>\n",
              "    <tr>\n",
              "      <th>20</th>\n",
              "      <td>21</td>\n",
              "      <td>15</td>\n",
              "    </tr>\n",
              "    <tr>\n",
              "      <th>21</th>\n",
              "      <td>22</td>\n",
              "      <td>17</td>\n",
              "    </tr>\n",
              "    <tr>\n",
              "      <th>22</th>\n",
              "      <td>23</td>\n",
              "      <td>13</td>\n",
              "    </tr>\n",
              "    <tr>\n",
              "      <th>23</th>\n",
              "      <td>24</td>\n",
              "      <td>15</td>\n",
              "    </tr>\n",
              "    <tr>\n",
              "      <th>24</th>\n",
              "      <td>25</td>\n",
              "      <td>15</td>\n",
              "    </tr>\n",
              "    <tr>\n",
              "      <th>25</th>\n",
              "      <td>26</td>\n",
              "      <td>17</td>\n",
              "    </tr>\n",
              "    <tr>\n",
              "      <th>26</th>\n",
              "      <td>27</td>\n",
              "      <td>15</td>\n",
              "    </tr>\n",
              "    <tr>\n",
              "      <th>27</th>\n",
              "      <td>28</td>\n",
              "      <td>18</td>\n",
              "    </tr>\n",
              "    <tr>\n",
              "      <th>28</th>\n",
              "      <td>29</td>\n",
              "      <td>17</td>\n",
              "    </tr>\n",
              "    <tr>\n",
              "      <th>29</th>\n",
              "      <td>30</td>\n",
              "      <td>18</td>\n",
              "    </tr>\n",
              "  </tbody>\n",
              "</table>\n",
              "</div>"
            ],
            "text/plain": [
              "    periodo  temperatura\n",
              "0         1           25\n",
              "1         2           24\n",
              "2         3           24\n",
              "3         4           26\n",
              "4         5           22\n",
              "5         6           20\n",
              "6         7           14\n",
              "7         8           13\n",
              "8         9           14\n",
              "9        10           12\n",
              "10       11           15\n",
              "11       12           17\n",
              "12       13           21\n",
              "13       14           20\n",
              "14       15           19\n",
              "15       16           20\n",
              "16       17           20\n",
              "17       18           17\n",
              "18       19           18\n",
              "19       20           18\n",
              "20       21           15\n",
              "21       22           17\n",
              "22       23           13\n",
              "23       24           15\n",
              "24       25           15\n",
              "25       26           17\n",
              "26       27           15\n",
              "27       28           18\n",
              "28       29           17\n",
              "29       30           18"
            ]
          },
          "execution_count": 22,
          "metadata": {},
          "output_type": "execute_result"
        }
      ],
      "source": [
        "# Sua resposta\n",
        "df=pd.read_csv(\"https://drive.google.com/u/1/uc?id=182_Z-bL7n9itkupECYhIOEGuIjfQbF0Z&export=download\")\n",
        "df"
      ]
    },
    {
      "cell_type": "markdown",
      "metadata": {
        "id": "BLQx51DUnvaP"
      },
      "source": [
        "<hr>"
      ]
    },
    {
      "cell_type": "markdown",
      "metadata": {
        "id": "r7mwwy_gBpTq"
      },
      "source": [
        "# Medidas de dispersão\n",
        "\n",
        "Em contraste com as medidas que vimos até agora, as medidas de dispersão procuram saber o quão \"espalhados\" estão os dados e quais são os valores extremos.\n",
        "\n",
        "> Se você parar para pensar em medidas muito simples para valores extremos, quais seriam elas?\n",
        "\n",
        "Provavelmente você pensaria no mínimo e máximo."
      ]
    },
    {
      "cell_type": "code",
      "execution_count": 20,
      "metadata": {
        "id": "iYx_OKtcBpTq"
      },
      "outputs": [
        {
          "data": {
            "text/plain": [
              "np.float64(20.0)"
            ]
          },
          "execution_count": 20,
          "metadata": {},
          "output_type": "execute_result"
        }
      ],
      "source": [
        "df = pd.read_csv(\"https://drive.google.com/u/1/uc?id=16Xv85THn5BF1bBDDXLTT8nGxCP321QPv&export=download\")\n",
        "df[\"Nota\"].min()\n"
      ]
    },
    {
      "cell_type": "code",
      "execution_count": null,
      "metadata": {
        "id": "tk1TlGTIWNV5"
      },
      "outputs": [],
      "source": [
        "df[\"Nota\"].max()"
      ]
    },
    {
      "cell_type": "markdown",
      "metadata": {
        "id": "JuY8PoexWQyN"
      },
      "source": [
        "A diferença entre o maior valor e o menor valor é chamada de **amplitude**:"
      ]
    },
    {
      "cell_type": "code",
      "execution_count": null,
      "metadata": {
        "id": "1m8GRxltWXwP"
      },
      "outputs": [],
      "source": [
        "df[\"Nota\"].max()-df[\"Nota\"].min()"
      ]
    },
    {
      "cell_type": "markdown",
      "metadata": {
        "id": "i08aI0WdWiPu"
      },
      "source": [
        "Uma medida de dispersão que usamos com frequência é a **variância**.\n",
        "\n",
        "A variância busca medir a distância dos pontos em relação à média.\n",
        "\n",
        "Para uma ideia intuitiva: quanto maior é a variância, mais espalhados estão nossos dados.\n",
        "\n",
        "Por exemplo, se todos os valores são iguais, a variância é 0.\n"
      ]
    },
    {
      "cell_type": "code",
      "execution_count": null,
      "metadata": {
        "id": "pxVbKL0GBpTt"
      },
      "outputs": [],
      "source": [
        "df[\"Nota\"].var()"
      ]
    },
    {
      "cell_type": "markdown",
      "metadata": {
        "id": "-Nmb8cz6XMX8"
      },
      "source": [
        "A definição de variância calcula as distâncias **ao quadrado** utilizando em relação à média.\n",
        "\n",
        "Por isso, também olhamos com frequência o valor do **desvio padrão** que é simplesmente a raiz quadrada da variância."
      ]
    },
    {
      "cell_type": "code",
      "execution_count": null,
      "metadata": {
        "id": "xHG3JgszYu_T"
      },
      "outputs": [],
      "source": [
        "df[\"Nota\"].std()"
      ]
    },
    {
      "cell_type": "markdown",
      "metadata": {
        "id": "CImBnBBxEFgx"
      },
      "source": [
        "O que você pode deduzir sobre as notas a partir do valor desvio padrão obtido; as notas são homogêneas?"
      ]
    },
    {
      "cell_type": "markdown",
      "metadata": {
        "id": "m6XuFjTiXgcW"
      },
      "source": [
        "### Exercício\n",
        "Considere a planilha em:\n",
        "\n",
        "https://drive.google.com/u/1/uc?id=182_Z-bL7n9itkupECYhIOEGuIjfQbF0Z&export=download\n",
        "\n",
        "Calcule para a temperatura as seguintes medidas:\n",
        "- mínimo\n",
        "- máximo\n",
        "- amplitude\n",
        "- variância\n",
        "- desvio padrão"
      ]
    },
    {
      "cell_type": "code",
      "execution_count": null,
      "metadata": {
        "id": "vzyp4cB3XueH"
      },
      "outputs": [],
      "source": [
        "# Sua resposta\n"
      ]
    },
    {
      "cell_type": "markdown",
      "metadata": {
        "id": "Znt24NpjXuDc"
      },
      "source": [
        "Como as medidas que apresentamos são usadas muito frequentemente, existe uma função que as agrega:"
      ]
    },
    {
      "cell_type": "code",
      "execution_count": 23,
      "metadata": {
        "id": "kawlcdLBBpTv"
      },
      "outputs": [
        {
          "data": {
            "text/plain": [
              "count     10.000000\n",
              "mean      50.500000\n",
              "std       30.500455\n",
              "min       20.000000\n",
              "25%       30.000000\n",
              "50%       37.500000\n",
              "75%       78.750000\n",
              "max      100.000000\n",
              "Name: Nota, dtype: float64"
            ]
          },
          "execution_count": 23,
          "metadata": {},
          "output_type": "execute_result"
        }
      ],
      "source": [
        "df = pd.read_csv(\"https://drive.google.com/u/1/uc?id=16Xv85THn5BF1bBDDXLTT8nGxCP321QPv&export=download\")\n",
        "df[\"Nota\"].describe()"
      ]
    },
    {
      "cell_type": "markdown",
      "metadata": {
        "id": "s6XyYZT4nyE7"
      },
      "source": [
        "<hr>"
      ]
    },
    {
      "cell_type": "markdown",
      "metadata": {
        "id": "Cveu6jEoBpTx"
      },
      "source": [
        "# Operações nas planilhas\n",
        "\n",
        "É muito comum que tenhamos que adicionar colunas a uma planilha para fazer os cálculos que desejamos.\n",
        "\n",
        "Suponha que queiramos criar uma nova coluna com nome \"Calcula\" e que, para cada aluno, o seu valor seja\n",
        "\n",
        "$$(-1)^{\\text{identificação do aluno}}\\cdot (\\text{nota do aluno})$$\n",
        "\n",
        "Note que a nova coluna é automaticamente adicionada:"
      ]
    },
    {
      "cell_type": "code",
      "execution_count": 24,
      "metadata": {
        "id": "cKhl2HpJBpTz"
      },
      "outputs": [
        {
          "data": {
            "text/html": [
              "<div>\n",
              "<style scoped>\n",
              "    .dataframe tbody tr th:only-of-type {\n",
              "        vertical-align: middle;\n",
              "    }\n",
              "\n",
              "    .dataframe tbody tr th {\n",
              "        vertical-align: top;\n",
              "    }\n",
              "\n",
              "    .dataframe thead th {\n",
              "        text-align: right;\n",
              "    }\n",
              "</style>\n",
              "<table border=\"1\" class=\"dataframe\">\n",
              "  <thead>\n",
              "    <tr style=\"text-align: right;\">\n",
              "      <th></th>\n",
              "      <th>Aluno</th>\n",
              "      <th>Nota</th>\n",
              "      <th>Calcula</th>\n",
              "    </tr>\n",
              "  </thead>\n",
              "  <tbody>\n",
              "    <tr>\n",
              "      <th>0</th>\n",
              "      <td>1</td>\n",
              "      <td>40.0</td>\n",
              "      <td>-40.0</td>\n",
              "    </tr>\n",
              "    <tr>\n",
              "      <th>1</th>\n",
              "      <td>2</td>\n",
              "      <td>45.0</td>\n",
              "      <td>45.0</td>\n",
              "    </tr>\n",
              "    <tr>\n",
              "      <th>2</th>\n",
              "      <td>3</td>\n",
              "      <td>20.0</td>\n",
              "      <td>-20.0</td>\n",
              "    </tr>\n",
              "    <tr>\n",
              "      <th>3</th>\n",
              "      <td>4</td>\n",
              "      <td>35.0</td>\n",
              "      <td>35.0</td>\n",
              "    </tr>\n",
              "    <tr>\n",
              "      <th>4</th>\n",
              "      <td>5</td>\n",
              "      <td>30.0</td>\n",
              "      <td>-30.0</td>\n",
              "    </tr>\n",
              "    <tr>\n",
              "      <th>5</th>\n",
              "      <td>6</td>\n",
              "      <td>25.0</td>\n",
              "      <td>25.0</td>\n",
              "    </tr>\n",
              "    <tr>\n",
              "      <th>6</th>\n",
              "      <td>7</td>\n",
              "      <td>30.0</td>\n",
              "      <td>-30.0</td>\n",
              "    </tr>\n",
              "    <tr>\n",
              "      <th>7</th>\n",
              "      <td>8</td>\n",
              "      <td>90.0</td>\n",
              "      <td>90.0</td>\n",
              "    </tr>\n",
              "    <tr>\n",
              "      <th>8</th>\n",
              "      <td>9</td>\n",
              "      <td>100.0</td>\n",
              "      <td>-100.0</td>\n",
              "    </tr>\n",
              "    <tr>\n",
              "      <th>9</th>\n",
              "      <td>10</td>\n",
              "      <td>90.0</td>\n",
              "      <td>90.0</td>\n",
              "    </tr>\n",
              "  </tbody>\n",
              "</table>\n",
              "</div>"
            ],
            "text/plain": [
              "   Aluno   Nota  Calcula\n",
              "0      1   40.0    -40.0\n",
              "1      2   45.0     45.0\n",
              "2      3   20.0    -20.0\n",
              "3      4   35.0     35.0\n",
              "4      5   30.0    -30.0\n",
              "5      6   25.0     25.0\n",
              "6      7   30.0    -30.0\n",
              "7      8   90.0     90.0\n",
              "8      9  100.0   -100.0\n",
              "9     10   90.0     90.0"
            ]
          },
          "execution_count": 24,
          "metadata": {},
          "output_type": "execute_result"
        }
      ],
      "source": [
        "df = pd.read_csv(\"https://drive.google.com/u/1/uc?id=16Xv85THn5BF1bBDDXLTT8nGxCP321QPv&export=download\")\n",
        "df[\"Calcula\"] = (-1)**df[\"Aluno\"]*df[\"Nota\"]\n",
        "df"
      ]
    },
    {
      "cell_type": "markdown",
      "metadata": {
        "id": "3ZnC8JA1ZcLP"
      },
      "source": [
        "### Exercício\n",
        "\n",
        "Considere a planilha em:\n",
        "\n",
        "https://drive.google.com/u/1/uc?id=182_Z-bL7n9itkupECYhIOEGuIjfQbF0Z&export=download\n",
        "\n",
        "Crie uma nova coluna com o nome \"razão\" para qual o valor para cada período é a temperatura dividida pelo período.\n",
        "\n",
        "Calcule sua média."
      ]
    },
    {
      "cell_type": "code",
      "execution_count": 2,
      "metadata": {
        "id": "I9GNwQeNaDEH"
      },
      "outputs": [
        {
          "data": {
            "text/html": [
              "<div>\n",
              "<style scoped>\n",
              "    .dataframe tbody tr th:only-of-type {\n",
              "        vertical-align: middle;\n",
              "    }\n",
              "\n",
              "    .dataframe tbody tr th {\n",
              "        vertical-align: top;\n",
              "    }\n",
              "\n",
              "    .dataframe thead th {\n",
              "        text-align: right;\n",
              "    }\n",
              "</style>\n",
              "<table border=\"1\" class=\"dataframe\">\n",
              "  <thead>\n",
              "    <tr style=\"text-align: right;\">\n",
              "      <th></th>\n",
              "      <th>periodo</th>\n",
              "      <th>temperatura</th>\n",
              "      <th>razão</th>\n",
              "    </tr>\n",
              "  </thead>\n",
              "  <tbody>\n",
              "    <tr>\n",
              "      <th>0</th>\n",
              "      <td>1</td>\n",
              "      <td>25</td>\n",
              "      <td>25.000000</td>\n",
              "    </tr>\n",
              "    <tr>\n",
              "      <th>1</th>\n",
              "      <td>2</td>\n",
              "      <td>24</td>\n",
              "      <td>12.000000</td>\n",
              "    </tr>\n",
              "    <tr>\n",
              "      <th>2</th>\n",
              "      <td>3</td>\n",
              "      <td>24</td>\n",
              "      <td>8.000000</td>\n",
              "    </tr>\n",
              "    <tr>\n",
              "      <th>3</th>\n",
              "      <td>4</td>\n",
              "      <td>26</td>\n",
              "      <td>6.500000</td>\n",
              "    </tr>\n",
              "    <tr>\n",
              "      <th>4</th>\n",
              "      <td>5</td>\n",
              "      <td>22</td>\n",
              "      <td>4.400000</td>\n",
              "    </tr>\n",
              "    <tr>\n",
              "      <th>5</th>\n",
              "      <td>6</td>\n",
              "      <td>20</td>\n",
              "      <td>3.333333</td>\n",
              "    </tr>\n",
              "    <tr>\n",
              "      <th>6</th>\n",
              "      <td>7</td>\n",
              "      <td>14</td>\n",
              "      <td>2.000000</td>\n",
              "    </tr>\n",
              "    <tr>\n",
              "      <th>7</th>\n",
              "      <td>8</td>\n",
              "      <td>13</td>\n",
              "      <td>1.625000</td>\n",
              "    </tr>\n",
              "    <tr>\n",
              "      <th>8</th>\n",
              "      <td>9</td>\n",
              "      <td>14</td>\n",
              "      <td>1.555556</td>\n",
              "    </tr>\n",
              "    <tr>\n",
              "      <th>9</th>\n",
              "      <td>10</td>\n",
              "      <td>12</td>\n",
              "      <td>1.200000</td>\n",
              "    </tr>\n",
              "    <tr>\n",
              "      <th>10</th>\n",
              "      <td>11</td>\n",
              "      <td>15</td>\n",
              "      <td>1.363636</td>\n",
              "    </tr>\n",
              "    <tr>\n",
              "      <th>11</th>\n",
              "      <td>12</td>\n",
              "      <td>17</td>\n",
              "      <td>1.416667</td>\n",
              "    </tr>\n",
              "    <tr>\n",
              "      <th>12</th>\n",
              "      <td>13</td>\n",
              "      <td>21</td>\n",
              "      <td>1.615385</td>\n",
              "    </tr>\n",
              "    <tr>\n",
              "      <th>13</th>\n",
              "      <td>14</td>\n",
              "      <td>20</td>\n",
              "      <td>1.428571</td>\n",
              "    </tr>\n",
              "    <tr>\n",
              "      <th>14</th>\n",
              "      <td>15</td>\n",
              "      <td>19</td>\n",
              "      <td>1.266667</td>\n",
              "    </tr>\n",
              "    <tr>\n",
              "      <th>15</th>\n",
              "      <td>16</td>\n",
              "      <td>20</td>\n",
              "      <td>1.250000</td>\n",
              "    </tr>\n",
              "    <tr>\n",
              "      <th>16</th>\n",
              "      <td>17</td>\n",
              "      <td>20</td>\n",
              "      <td>1.176471</td>\n",
              "    </tr>\n",
              "    <tr>\n",
              "      <th>17</th>\n",
              "      <td>18</td>\n",
              "      <td>17</td>\n",
              "      <td>0.944444</td>\n",
              "    </tr>\n",
              "    <tr>\n",
              "      <th>18</th>\n",
              "      <td>19</td>\n",
              "      <td>18</td>\n",
              "      <td>0.947368</td>\n",
              "    </tr>\n",
              "    <tr>\n",
              "      <th>19</th>\n",
              "      <td>20</td>\n",
              "      <td>18</td>\n",
              "      <td>0.900000</td>\n",
              "    </tr>\n",
              "    <tr>\n",
              "      <th>20</th>\n",
              "      <td>21</td>\n",
              "      <td>15</td>\n",
              "      <td>0.714286</td>\n",
              "    </tr>\n",
              "    <tr>\n",
              "      <th>21</th>\n",
              "      <td>22</td>\n",
              "      <td>17</td>\n",
              "      <td>0.772727</td>\n",
              "    </tr>\n",
              "    <tr>\n",
              "      <th>22</th>\n",
              "      <td>23</td>\n",
              "      <td>13</td>\n",
              "      <td>0.565217</td>\n",
              "    </tr>\n",
              "    <tr>\n",
              "      <th>23</th>\n",
              "      <td>24</td>\n",
              "      <td>15</td>\n",
              "      <td>0.625000</td>\n",
              "    </tr>\n",
              "    <tr>\n",
              "      <th>24</th>\n",
              "      <td>25</td>\n",
              "      <td>15</td>\n",
              "      <td>0.600000</td>\n",
              "    </tr>\n",
              "    <tr>\n",
              "      <th>25</th>\n",
              "      <td>26</td>\n",
              "      <td>17</td>\n",
              "      <td>0.653846</td>\n",
              "    </tr>\n",
              "    <tr>\n",
              "      <th>26</th>\n",
              "      <td>27</td>\n",
              "      <td>15</td>\n",
              "      <td>0.555556</td>\n",
              "    </tr>\n",
              "    <tr>\n",
              "      <th>27</th>\n",
              "      <td>28</td>\n",
              "      <td>18</td>\n",
              "      <td>0.642857</td>\n",
              "    </tr>\n",
              "    <tr>\n",
              "      <th>28</th>\n",
              "      <td>29</td>\n",
              "      <td>17</td>\n",
              "      <td>0.586207</td>\n",
              "    </tr>\n",
              "    <tr>\n",
              "      <th>29</th>\n",
              "      <td>30</td>\n",
              "      <td>18</td>\n",
              "      <td>0.600000</td>\n",
              "    </tr>\n",
              "  </tbody>\n",
              "</table>\n",
              "</div>"
            ],
            "text/plain": [
              "    periodo  temperatura      razão\n",
              "0         1           25  25.000000\n",
              "1         2           24  12.000000\n",
              "2         3           24   8.000000\n",
              "3         4           26   6.500000\n",
              "4         5           22   4.400000\n",
              "5         6           20   3.333333\n",
              "6         7           14   2.000000\n",
              "7         8           13   1.625000\n",
              "8         9           14   1.555556\n",
              "9        10           12   1.200000\n",
              "10       11           15   1.363636\n",
              "11       12           17   1.416667\n",
              "12       13           21   1.615385\n",
              "13       14           20   1.428571\n",
              "14       15           19   1.266667\n",
              "15       16           20   1.250000\n",
              "16       17           20   1.176471\n",
              "17       18           17   0.944444\n",
              "18       19           18   0.947368\n",
              "19       20           18   0.900000\n",
              "20       21           15   0.714286\n",
              "21       22           17   0.772727\n",
              "22       23           13   0.565217\n",
              "23       24           15   0.625000\n",
              "24       25           15   0.600000\n",
              "25       26           17   0.653846\n",
              "26       27           15   0.555556\n",
              "27       28           18   0.642857\n",
              "28       29           17   0.586207\n",
              "29       30           18   0.600000"
            ]
          },
          "execution_count": 2,
          "metadata": {},
          "output_type": "execute_result"
        }
      ],
      "source": [
        "# Sua resposta\n",
        "import pandas as pd\n",
        "\n",
        "df = pd.read_csv(\"https://drive.google.com/u/1/uc?id=182_Z-bL7n9itkupECYhIOEGuIjfQbF0Z&export=download\")\n",
        "df[\"razão\"] = df[\"temperatura\"]/ df[\"periodo\"]\n",
        "df\n"
      ]
    },
    {
      "cell_type": "markdown",
      "metadata": {
        "id": "I3R1GC9Xnz9m"
      },
      "source": [
        "<hr>"
      ]
    },
    {
      "cell_type": "markdown",
      "metadata": {
        "id": "p5TRv5DFBpT1"
      },
      "source": [
        "# Gráficos"
      ]
    },
    {
      "cell_type": "markdown",
      "metadata": {
        "id": "0cPwo9CLac5i"
      },
      "source": [
        "Criar gráficos para representar os nossos dados, pode ser muito útil para rapidamente obter informações.\n",
        "\n",
        "Um gráfico muito simples é o **histograma** que divide os dados em categorias e apresenta quantos valores estão em cada categoria:"
      ]
    },
    {
      "cell_type": "code",
      "execution_count": 4,
      "metadata": {
        "id": "8bvS5Quta5w6"
      },
      "outputs": [
        {
          "data": {
            "text/plain": [
              "array([[<Axes: title={'center': 'Nota'}>]], dtype=object)"
            ]
          },
          "execution_count": 4,
          "metadata": {},
          "output_type": "execute_result"
        },
        {
          "data": {
            "image/png": "[encoded data removed]",
            "text/plain": [
              "<Figure size 640x480 with 1 Axes>"
            ]
          },
          "metadata": {},
          "output_type": "display_data"
        }
      ],
      "source": [
        "df = pd.read_csv(\"https://drive.google.com/u/1/uc?id=16Xv85THn5BF1bBDDXLTT8nGxCP321QPv&export=download\")\n",
        "df.hist(column=\"Nota\")"
      ]
    },
    {
      "cell_type": "markdown",
      "metadata": {
        "id": "nAKimMVebT3G"
      },
      "source": [
        "\n",
        "Note como a partir dos histogramas, conseguimos rapidamente visualizar a performance dos alunos.\n",
        "\n",
        "Por padrão são criadas 10 categorias.\n",
        "\n",
        "No nosso caso, as categorias dividem os valores de 20 (menor nota) a 100 (maior nota) e cada categoria é formada por 8 notas.\n",
        "\n",
        "Por exemplo, a primeira categoria são as notas de 20 a 28. A segunda até 36 (e assim por diante).\n",
        "\n",
        "Podemos especificar o número de categorias. Veja um exemplo com apenas 2 categorias:"
      ]
    },
    {
      "cell_type": "code",
      "execution_count": 5,
      "metadata": {
        "id": "Lzbh1v7xc09Z"
      },
      "outputs": [
        {
          "data": {
            "text/plain": [
              "array([[<Axes: title={'center': 'Nota'}>]], dtype=object)"
            ]
          },
          "execution_count": 5,
          "metadata": {},
          "output_type": "execute_result"
        },
        {
          "data": {
            "image/png": "[encoded data removed]",
            "text/plain": [
              "<Figure size 640x480 with 1 Axes>"
            ]
          },
          "metadata": {},
          "output_type": "display_data"
        }
      ],
      "source": [
        "df.hist(column=\"Nota\", bins=2)"
      ]
    },
    {
      "cell_type": "markdown",
      "metadata": {
        "id": "ayoLpevTfE1r"
      },
      "source": [
        "Outro tipo de gráfico muito usado em Estatística é o box plot."
      ]
    },
    {
      "cell_type": "code",
      "execution_count": 6,
      "metadata": {
        "id": "lK5B9s-mBpT1"
      },
      "outputs": [
        {
          "data": {
            "text/plain": [
              "<Axes: >"
            ]
          },
          "execution_count": 6,
          "metadata": {},
          "output_type": "execute_result"
        },
        {
          "data": {
            "image/png": "[encoded data removed]",
            "text/plain": [
              "<Figure size 640x480 with 1 Axes>"
            ]
          },
          "metadata": {},
          "output_type": "display_data"
        }
      ],
      "source": [
        "df.boxplot(column=\"Nota\")"
      ]
    },
    {
      "cell_type": "markdown",
      "metadata": {
        "id": "FEna3hnGfWrt"
      },
      "source": [
        "O box plot apresenta várias informações úteis:\n",
        "- A linha verde dentro da caixa é a mediana\n",
        "- A linha inferior da caixa é o primeiro quartil (Q1), ou seja, o 25 percentil.\n",
        "- A linha superior da caixa é o terceiro quartil (Q3), ou seja, o 75 percentil.\n",
        "- o traço inferior em preto é o menor valor nos dados que fica acima de $Q1-1.5 IQR$, onde $IQR = Q3-Q1$.\n",
        "- o traço superior em preto é o maior valor nos dados fica abaixo de\n",
        "$Q3+1.5 IQR$\n",
        "\n",
        "O valor IQR é chamado de **amplitude interquartil**.\n",
        "\n",
        "Pontos abaixo do traço inferior ou acima do traço superior são chamados de **discrepantes**.\n",
        "\n",
        "No nosso caso, não havia pontos discrepantes. Quando eles existem, são representados por círculos.\n",
        "\n",
        "Veja um exemplo:\n",
        "\n"
      ]
    },
    {
      "cell_type": "code",
      "execution_count": 7,
      "metadata": {
        "id": "csSir9y1hmoM"
      },
      "outputs": [
        {
          "data": {
            "text/plain": [
              "<Axes: >"
            ]
          },
          "execution_count": 7,
          "metadata": {},
          "output_type": "execute_result"
        },
        {
          "data": {
            "image/png": "[encoded data removed]",
            "text/plain": [
              "<Figure size 640x480 with 1 Axes>"
            ]
          },
          "metadata": {},
          "output_type": "display_data"
        }
      ],
      "source": [
        "df = pd.read_csv(\"https://drive.google.com/u/1/uc?id=10yl6WEW0-PZKWYpkzGswvP3p105n831w&export=download\")\n",
        "df.boxplot(column=\"valores\")"
      ]
    },
    {
      "cell_type": "markdown",
      "metadata": {
        "id": "kgnAvH0qbkE_"
      },
      "source": [
        "### Exercício\n",
        "\n",
        "Considere a planilha em:\n",
        "\n",
        "https://drive.google.com/u/1/uc?id=182_Z-bL7n9itkupECYhIOEGuIjfQbF0Z&export=download\n",
        "\n",
        "Crie para a temperatura:\n",
        "- um histograma com $3$ categorias\n",
        "- o boxplot\n"
      ]
    },
    {
      "cell_type": "code",
      "execution_count": 9,
      "metadata": {
        "id": "u_rGaG5KbyUb"
      },
      "outputs": [],
      "source": [
        "# Sua resposta\n",
        "df = pd.read_csv(\"https://drive.google.com/u/1/uc?id=182_Z-bL7n9itkupECYhIOEGuIjfQbF0Z&export=download\")"
      ]
    },
    {
      "cell_type": "code",
      "execution_count": 10,
      "metadata": {},
      "outputs": [
        {
          "data": {
            "text/plain": [
              "array([[<Axes: title={'center': 'temperatura'}>]], dtype=object)"
            ]
          },
          "execution_count": 10,
          "metadata": {},
          "output_type": "execute_result"
        },
        {
          "data": {
            "image/png": "[encoded data removed]",
            "text/plain": [
              "<Figure size 640x480 with 1 Axes>"
            ]
          },
          "metadata": {},
          "output_type": "display_data"
        }
      ],
      "source": [
        "df.hist(column=[\"temperatura\"],bins=3)"
      ]
    },
    {
      "cell_type": "code",
      "execution_count": 14,
      "metadata": {},
      "outputs": [
        {
          "data": {
            "text/plain": [
              "<Axes: >"
            ]
          },
          "execution_count": 14,
          "metadata": {},
          "output_type": "execute_result"
        },
        {
          "data": {
            "image/png": "[encoded data removed]",
            "text/plain": [
              "<Figure size 640x480 with 1 Axes>"
            ]
          },
          "metadata": {},
          "output_type": "display_data"
        }
      ],
      "source": [
        "df.boxplot(column=\"temperatura\")"
      ]
    },
    {
      "cell_type": "code",
      "execution_count": null,
      "metadata": {},
      "outputs": [],
      "source": []
    }
  ],
  "metadata": {
    "colab": {
      "provenance": []
    },
    "kernelspec": {
      "display_name": "Python 3",
      "language": "python",
      "name": "python3"
    },
    "language_info": {
      "codemirror_mode": {
        "name": "ipython",
        "version": 3
      },
      "file_extension": ".py",
      "mimetype": "text/x-python",
      "name": "python",
      "nbconvert_exporter": "python",
      "pygments_lexer": "ipython3",
      "version": "3.10.13"
    }
  },
  "nbformat": 4,
  "nbformat_minor": 0
}
