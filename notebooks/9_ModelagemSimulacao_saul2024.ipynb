{
 "cells": [
  {
   "cell_type": "markdown",
   "metadata": {
    "id": "YZgokTBDMfXs"
   },
   "source": [
    "# Modelagem e Simulação\n",
    "\n",
    "Recursos computacionais são usados em diversas áreas da Ciência para a realização de simulações de sistemas, objetos, fenômenos.\n",
    "\n",
    "Para a realização de uma simulação, precisamos de um modelo para o objeto de interesse.\n",
    "\n",
    "**Exemplo:**  Descrição de um sistema de apostas (jogo de azar)\n",
    "\n",
    "\n",
    "\n"
   ]
  },
  {
   "cell_type": "markdown",
   "metadata": {
    "id": "kKjy-O-EmVlf"
   },
   "source": [
    "# Jogo de azar - duas possibilidades\n",
    "\n",
    "Considere um **jogo de azar** com o seguinte formato:\n",
    "- O jogador escolhe o valor da aposta e escolhe um número (1 ou 2).\n",
    "- Em seguida, é sorteado um número (1 ou 2).\n",
    "- Se o jogador acertar ele tem como lucro o valor de sua aposta.\n",
    "- Caso contrário, ele perde o valor apostado.\n",
    "\n",
    "Considere um jogador que utiliza a seguinte estratégia:\n",
    "- Ele sempre aposta no número 1.\n",
    "- O valor da aposta é sempre 20 reais.\n",
    "- Ele tem 100 reais disponíveis inicialmente.\n",
    "- Ele irá parar quando obtiver 100 reais de lucro (ou seja, ficar com o valor acumulado de 200 reais) ou quando o dinheiro dele acabar.\n",
    "\n",
    "> Será que é uma boa estratégia?"
   ]
  },
  {
   "cell_type": "markdown",
   "metadata": {
    "id": "IYoJOK9HmICa"
   },
   "source": [
    "## Modelo\n",
    "\n",
    "Um **modelo** é uma representação (parcial) do objeto de interesse.\n",
    "\n",
    "No nosso exemplo, um possível modelo seria considerar que, em cada rodada,\n",
    "* Com probabilidade $p$, o número 1 é escolhido. Caso contrário, o número 2 é escolhido.\n",
    "* Cada rodada é feita independentemente das demais.\n",
    "\n",
    "Note que, ao escolher este modelo, estamos considerando que o jogo é honesto (não há interferência para fazer o jogador perder). Além disso, assumir que cada rodada é independente é uma suposição importante (pois isso depende de como o sorteio é realizado).\n",
    "\n",
    "> O nosso modelo é bom?"
   ]
  },
  {
   "cell_type": "markdown",
   "metadata": {
    "id": "BRyj_mqJUPAS"
   },
   "source": [
    "## Simulação Computacional\n",
    "\n",
    "\n",
    " Procuramos usar simulações computacionais para descobrir características do objeto investigado.\n",
    "\n",
    "Vamos ver como simular o modelo do nosso exemplo.\n",
    "\n"
   ]
  },
  {
   "cell_type": "markdown",
   "metadata": {
    "id": "HScU8QmJxeUj"
   },
   "source": [
    "**Em cada rodada, é realizado um sorteio. Então importamos a biblioteca ``random`` que contém várias funções para realizar diversos tipos de sorteios (random significa aleatório)**."
   ]
  },
  {
   "cell_type": "code",
   "execution_count": 2,
   "metadata": {
    "id": "MddHAIqGlrL0"
   },
   "outputs": [],
   "source": [
    "import random as rd  # importamos a biblioteca random que contém várias funções para realizar diversos tipos de sorteios"
   ]
  },
  {
   "cell_type": "markdown",
   "metadata": {
    "id": "ozJovcPrxsIx"
   },
   "source": [
    "Vamos inicializar o saldo do jogador como $100$ e o valor da aposta como $20$:"
   ]
  },
  {
   "cell_type": "code",
   "execution_count": null,
   "metadata": {
    "id": "EEiqHHuLnnmx"
   },
   "outputs": [],
   "source": [
    "saldo = 100\n",
    "aposta = 20"
   ]
  },
  {
   "cell_type": "markdown",
   "metadata": {
    "id": "aNtekhh3x0Le"
   },
   "source": [
    "Para realizar um sorteio entre os números 1 e 2, podemos utilizar a **função ``randint(a,b)``**.\n",
    "\n",
    "**Essa função escolhe um número entre $a$ e $b$ (com $a$ e $b$ inclusos)**. **Cada número tem a mesma chance de ser sorteado.**\n",
    "\n",
    "Então se realizamos um sorteio entre  dois números, 1 e 2, estamos considerando probabilidade $p=1/2$. Ou seja,\n",
    "o número 1 é escolhido com probabilidade 1/2 (ou seja, 50%) e 2 é escolhido com probabilidade 1/2 (ou seja, 50%).\n",
    "\n",
    "**Execute a célula abaixo várias vezes para ver que ela vai sorteando ou número  1 ou número 2:**"
   ]
  },
  {
   "cell_type": "code",
   "execution_count": null,
   "metadata": {
    "id": "gD5ceJeRyA3G"
   },
   "outputs": [],
   "source": [
    "sorteio = rd.randint(1,2)   #sorteio entre números 1 e 2. Número 1 é escolhido com probabilidade 1/2 (ou seja, 50%). Número 2 também com 50%\n",
    "print(sorteio)"
   ]
  },
  {
   "cell_type": "markdown",
   "metadata": {
    "id": "eRLMeaR-yDQT"
   },
   "source": [
    "Após o sorteio, atualizamos o ``saldo``:"
   ]
  },
  {
   "cell_type": "code",
   "execution_count": null,
   "metadata": {
    "id": "tYx3Cxt_l3MY"
   },
   "outputs": [],
   "source": [
    "if sorteio == 1:                     # o jogador sempre aposta no numero 1. Logo, se o numero 1 for sorteado, ele ganha o valor de aposta\n",
    "  saldo = saldo+aposta\n",
    "  print(\"Ganhou\",aposta,\"reais\")\n",
    "else:                                # Caso contrario, ele perde o valor apostado\n",
    "  saldo = saldo-aposta\n",
    "  print(\"Perdeu\",aposta,\"reais\")\n",
    "print(\"O jogador tem\",saldo,\"reais\") # note que print esta fora de if/else"
   ]
  },
  {
   "cell_type": "markdown",
   "metadata": {
    "id": "109q1s5xyb7S"
   },
   "source": [
    "**Para adicionar o fato de que o jogador joga até atingir 200 reais ou perder todo o seu dinheiro, utilizamos laço `while`**.\n",
    "\n",
    "A condição do `while` será\n",
    "\n",
    "```\n",
    " saldo > 0 and saldo < 200\n",
    "```\n",
    "pois o `while` acaba se o saldo ficar menor ou igual à $0$ (jogador perdeu todo dinheiro) ou maior ou igual à $200$ (jogador atingiu 200 reais).\n",
    "\n",
    "**Logo, o jogo de azar completo fica como segue. Execute o código abaixo várias vezes para ver que a saída vai ser diferente, pois a saída depende de sorteio feito na linha 4:**"
   ]
  },
  {
   "cell_type": "code",
   "execution_count": null,
   "metadata": {
    "id": "f2ZaEqXYmuao"
   },
   "outputs": [],
   "source": [
    "saldo = 100                          # inicializamos saldo\n",
    "aposta = 20                          # inicializamos aposta\n",
    "\n",
    "while saldo > 0 and saldo < 200:     # while acaba se o saldo ficar menor ou igual à 0 (jogador perdeu tudo)ou maior ou igual à 200 (jogador atingiu 200 reais).\n",
    "  sorteio = rd.randint(1,2)             # sorteio entre 1 e 2 (dentro de while)\n",
    "  if sorteio == 1:                      # o jogador sempre aposta no numero 1. Logo, se o numero 1 for sorteado, ele ganha o valor de aposta\n",
    "    saldo = saldo+aposta\n",
    "    print(\"Ganhou\",aposta,\"reais\")\n",
    "  else:                                 # Caso contrario, ele perde o valor apostado\n",
    "    saldo = saldo-aposta\n",
    "    print(\"Perdeu\",aposta,\"reais\")\n",
    "print(\"O jogador tem\",saldo,\"reais\") # imprimimos saldo, apos sair de laco while"
   ]
  },
  {
   "cell_type": "markdown",
   "metadata": {
    "id": "VVOsTZUjpQUG"
   },
   "source": [
    "## Gráfico"
   ]
  },
  {
   "cell_type": "markdown",
   "metadata": {
    "id": "O-qm6ltlzS0-"
   },
   "source": [
    "É muito útil podermos visualizar o que está acontecendo usando um gráfico.\n",
    "\n",
    "**Vamos criar uma variável ``rodada`` para contar o número de rodadas e vamos colocar um '.', onde a coordenada x tem o número da rodada e a coordenada y tem o saldo após a execução da rodada.**\n",
    "\n",
    "Para a rodada $x=0$, o valor de y é o saldo inicial (no nosso caso, 100).\n",
    "\n",
    "**Execute várias vezes e veja como é fácil de ver a trajetória do jogador.**"
   ]
  },
  {
   "cell_type": "code",
   "execution_count": 18,
   "metadata": {
    "id": "Wbn3wK4AolRp"
   },
   "outputs": [
    {
     "data": {
      "image/png": "[encoded data removed]",
      "text/plain": [
       "<Figure size 640x480 with 1 Axes>"
      ]
     },
     "metadata": {},
     "output_type": "display_data"
    }
   ],
   "source": [
    "import matplotlib.pyplot as plt\n",
    "%matplotlib inline\n",
    "\n",
    "saldo = 100\n",
    "aposta = 20\n",
    "rodada  = 0 # inicializamos rodada com zero antes de laco while\n",
    "plt.plot(rodada, saldo,'.b')\n",
    "\n",
    "while saldo>0 and saldo<200:\n",
    "  sorteio = rd.randint(1,2)\n",
    "  if sorteio == 1:\n",
    "    saldo = saldo+aposta\n",
    "  else:\n",
    "    saldo = saldo-aposta\n",
    "  rodada = rodada+1            # atualizamos rodada\n",
    "  plt.plot(rodada, saldo,'.b') # imprimimos o ponto - ultimo comando dentro do laco  while"
   ]
  },
  {
   "cell_type": "markdown",
   "metadata": {
    "id": "Nc_vzUhSz9nn"
   },
   "source": [
    "> Mas como saber se a estratégia é boa ou ruim?\n",
    "\n",
    "Você deve ter reparado que às vezes o jogador prospera e acumula os 200 reais desejados. Em outras vezes, ele simplesmente vai à falência.\n",
    "\n"
   ]
  },
  {
   "cell_type": "markdown",
   "metadata": {
    "id": "7nb95jbCnK_m"
   },
   "source": [
    "## Simulando n jogadas\n",
    "\n",
    "**Podemos simular a trajetória do jogador várias vezes e contar quando ele prosperou e quando ele faliu.**\n",
    "\n",
    "**Basta verificar se while acabou pois o saldo ficou menor ou igual à zero, ou se chegou a $200$**.\n",
    "\n",
    "**Usamos uma variável ``faliu`` para contar o número de vezes que o jogador faliu e uma variável ``prosperou`` para contar o número de vezes que ele prosperou**.\n",
    "\n",
    "**Vamos simular 1000 vezes o jogo completo:**"
   ]
  },
  {
   "cell_type": "code",
   "execution_count": 3,
   "metadata": {
    "id": "Klh8VgvZoGJ_"
   },
   "outputs": [
    {
     "name": "stdout",
     "output_type": "stream",
     "text": [
      "O jogador faliu 487 vezes\n",
      "O jogador prosperou 513 vezes\n"
     ]
    }
   ],
   "source": [
    "faliu = 0                            # inicializamos faliu com 0 no inicio de programa\n",
    "prosperou = 0                        # e o prosperou tambem\n",
    "\n",
    "for i in range(0,1000):              # iremos simular 1000 vezes o jogo completo (em cada passagem de for iremos simular um jogo completo)\n",
    "  saldo = 100                              # no inicio de cada jogo inicializamos saldo com 100\n",
    "  aposta = 20                              # e aposta com 20\n",
    "  while saldo > 0 and saldo < 200:\n",
    "    sorteio = rd.randint(1,2)\n",
    "    if sorteio == 1:\n",
    "      saldo = saldo+aposta\n",
    "    else:\n",
    "      saldo = saldo-aposta\n",
    "  if saldo<=0:                             # se saimos de laco while e o saldo ficou <= 0, entao aumentamos o contador faliu por 1\n",
    "    faliu = faliu+1\n",
    "  else:                                    # se saimos de laco while e o saldo ficou >= 200, entao aumentamos o contador prosperou por 1\n",
    "    prosperou = prosperou+1\n",
    "\n",
    "print(\"O jogador faliu\",faliu,\"vezes\") # imprimimos resultados fora de laco for, ou seja, apos terminar 1000 simulacoes de jogo\n",
    "print(\"O jogador prosperou\",prosperou,\"vezes\")"
   ]
  },
  {
   "cell_type": "markdown",
   "metadata": {
    "id": "qCn1sEBS0zvh"
   },
   "source": [
    "Rode o código acima várias vezes.\n",
    "\n",
    "> Qual conclusão você consegue tirar sobre a estratégia?"
   ]
  },
  {
   "cell_type": "markdown",
   "metadata": {
    "id": "8JCUXWyG1FNr"
   },
   "source": [
    "**Como você pode ver, os resultados são bem balanceados.**\n",
    "\n",
    "Na verdade, é possível provar matematicamente que, neste caso, a probabilidade do jogador falir é 1/2 e a de prosperar é 1/2.\n",
    "\n"
   ]
  },
  {
   "cell_type": "markdown",
   "metadata": {
    "id": "psSU0pPioJN8"
   },
   "source": [
    "## Jogo de azar - três possibilidades\n",
    "Mas e se, ao invés do jogo sortear entre 1 e 2, o sorteio for entre 1, 2 e 3 (com a mesma chance para cada número)?\n",
    "\n",
    "Basta acrescentarmos o número 3 na nossa lista:"
   ]
  },
  {
   "cell_type": "code",
   "execution_count": null,
   "metadata": {
    "id": "DweBgFhz2eJj"
   },
   "outputs": [],
   "source": [
    "faliu = 0\n",
    "prosperou = 0\n",
    "\n",
    "for i in range(0,1000):\n",
    "  saldo = 100\n",
    "  aposta = 20\n",
    "  while saldo > 0 and saldo < 200:\n",
    "    sorteio = rd.randint(1,3)  # sorteio entre 1, 2 e 3, com a mesma probabilidade de cada um\n",
    "    if sorteio == 1:\n",
    "      saldo = saldo+aposta\n",
    "    else:\n",
    "      saldo = saldo-aposta\n",
    "  if saldo<=0:\n",
    "    faliu = faliu+1\n",
    "  else:\n",
    "    prosperou = prosperou+1\n",
    "\n",
    "print(\"O jogador faliu\",faliu,\"vezes\")\n",
    "print(\"O jogador prosperou\",prosperou,\"vezes\")"
   ]
  },
  {
   "cell_type": "markdown",
   "metadata": {
    "id": "1ZlwdN8coUfW"
   },
   "source": [
    "Note que isso altera drasticamente as chances de falir e prosperar. Isso porque o jogador tem uma chance muito menor de ganhar cada sorteio agora."
   ]
  },
  {
   "cell_type": "markdown",
   "metadata": {
    "id": "9E1rwqj_GOh8"
   },
   "source": [
    "<hr>"
   ]
  },
  {
   "cell_type": "markdown",
   "metadata": {
    "id": "_GNOXGfLvmzM"
   },
   "source": [
    "# Números aleatórios e comandos: rd.seed() e rd.choice()\n",
    "\n",
    "Como você deve ter percebido, poder fazer os sorteios foi muito importante em nosso exemplo.\n",
    "\n",
    "\n",
    "Na verdade, o computador não consegue sortear números que são verdadeiramente aleatórios. Ele sorteia o que chamamos de números *pseudo-aleatórios*, que têm um comportamento que tenta ser similar ao aleatório.\n",
    "\n",
    "Um dos fatores que vários métodos usam para sortear números pseudo-aleatórios é o horário do computador.\n",
    "\n",
    "O horário é usado em uma variável chamada de **`seed`** **(semente)** **que basicamente determina os valores que serão sorteados. Então, se fixamos a seed, obtemos sempre os mesmos resultados**.\n",
    "\n",
    "Execute a célula abaixo para ver que **a saída sempre fica igual** - **a seed (semente) foi definida como 0:**\n"
   ]
  },
  {
   "cell_type": "code",
   "execution_count": null,
   "metadata": {
    "id": "5wgwOK45Fps4"
   },
   "outputs": [],
   "source": [
    "rd.seed(0)     # seed (semente) foi definida como 0\n",
    "print(rd.randint(1,2))\n",
    "print(rd.randint(1,2))\n",
    "print(rd.randint(1,2))\n",
    "print(rd.randint(1,2))\n",
    "print(rd.randint(1,2))"
   ]
  },
  {
   "cell_type": "markdown",
   "metadata": {
    "id": "hnl7H7Y3GLes"
   },
   "source": [
    "**Mudando o valor do seed, muda o sorteio**:"
   ]
  },
  {
   "cell_type": "code",
   "execution_count": null,
   "metadata": {
    "id": "h6wJ_mtdGOxZ"
   },
   "outputs": [],
   "source": [
    "rd.seed(1)    # seed foi definida como 1\n",
    "print(rd.randint(1,2))\n",
    "print(rd.randint(1,2))\n",
    "print(rd.randint(1,2))\n",
    "print(rd.randint(1,2))\n",
    "print(rd.randint(1,2))"
   ]
  },
  {
   "cell_type": "markdown",
   "metadata": {
    "id": "FYRvPR90GORC"
   },
   "source": [
    "Vamos ver algumas opções de sorteio."
   ]
  },
  {
   "cell_type": "markdown",
   "metadata": {
    "id": "VjO8qVbsGaGo"
   },
   "source": [
    "Para **gerar um número real entre 0 e 1 onde cada número tem a mesma chance de ser sorteado, usamos a função ``random()``:**"
   ]
  },
  {
   "cell_type": "code",
   "execution_count": null,
   "metadata": {
    "id": "iZdHez5YGhN0"
   },
   "outputs": [],
   "source": [
    "rd.random()"
   ]
  },
  {
   "cell_type": "markdown",
   "metadata": {
    "id": "6rdZPVoDQZ46"
   },
   "source": [
    "Podemos fazer também um **sorteio de um elemento de uma lista. Cada elemento da lista tem a mesma chance de ser sorteado**. Note o uso de colchetes `[` e `]`."
   ]
  },
  {
   "cell_type": "code",
   "execution_count": null,
   "metadata": {
    "id": "o7fri_Z3Gm4d"
   },
   "outputs": [],
   "source": [
    "rd.choice([1,4,5])"
   ]
  },
  {
   "cell_type": "markdown",
   "metadata": {
    "id": "fhUG-gsoQgfj"
   },
   "source": [
    "Então, se você quiser simular um sorteio de cara ou coroa, você poderia fazer assim:"
   ]
  },
  {
   "cell_type": "code",
   "execution_count": null,
   "metadata": {
    "id": "OYn091gyHSee"
   },
   "outputs": [],
   "source": [
    "rd.choice([\"cara\", \"coroa\"])"
   ]
  },
  {
   "cell_type": "markdown",
   "metadata": {
    "id": "p_F4RYDVH0HM"
   },
   "source": [
    "Todos os exemplos que vimos até agora atribuem a mesma chance para cada possibilidade.\n",
    "\n",
    "E se quisermos fazer uma moeda onde a chance de sair cara é 0.4 (ou seja, 40%) e a de sair coroa é 0.6 (ou seja, 60%).\n",
    "\n",
    "Podemos utilizar a **função ``choices`` que recebe as chances de cada possibilidade**."
   ]
  },
  {
   "cell_type": "code",
   "execution_count": null,
   "metadata": {
    "id": "8q3LNRc0wSmh"
   },
   "outputs": [],
   "source": [
    "rd.choices([\"cara\",\"coroa\"],weights=[.4,.6],k=1)\n"
   ]
  },
  {
   "cell_type": "markdown",
   "metadata": {
    "id": "TfquZ1aeRArl"
   },
   "source": [
    "Essa função foi feita com a **possibilidade de realizar vários sorteios de uma vez, isso é controlado pela opção $k$**. Veja como fazer **5 sorteios de uma só vez**:"
   ]
  },
  {
   "cell_type": "code",
   "execution_count": null,
   "metadata": {
    "id": "K74OA6i-RKti"
   },
   "outputs": [],
   "source": [
    "rd.choices([\"cara\",\"coroa\"],weights=[.4,.6],k=5)  # k=5"
   ]
  },
  {
   "cell_type": "markdown",
   "metadata": {
    "id": "G1ENxQ2PRRNc"
   },
   "source": [
    "A função sempre retorna uma lista (por isso os ``[`` e ``]``).\n",
    "\n",
    "Se você for fazer apenas um sorteio e guardar em uma variável s (sem lidar com listas), você poderia fazer assim:"
   ]
  },
  {
   "cell_type": "code",
   "execution_count": null,
   "metadata": {
    "id": "Wvoh8-MvRQi3"
   },
   "outputs": [],
   "source": [
    "[s] = rd.choices([\"cara\",\"coroa\"],weights=[.4,.6],k=1)\n",
    "s"
   ]
  },
  {
   "cell_type": "markdown",
   "metadata": {
    "id": "3FQnwkzSRgF-"
   },
   "source": [
    "Uma outra opção seria a seguinte.\n",
    "\n",
    " Comece sorteando um valor ``r`` entre 0 e 1.\n",
    "\n",
    "Dados valores $a$ e $b$, a chance de ``r`` cair dentro do intervalo $[a,b)$ é o comprimento do intervalo!\n",
    "\n",
    "Então, a chance de r ser menor do que 0.4 é o comprimento de $[0,0.4)$ que é 0.4 (ou seja 40% de chance):"
   ]
  },
  {
   "cell_type": "code",
   "execution_count": null,
   "metadata": {
    "id": "KD5SdAZUH-rv"
   },
   "outputs": [],
   "source": [
    "p = 0.4\n",
    "r = rd.random()\n",
    "if p < 0.4:\n",
    "  s = \"cara\"\n",
    "else:\n",
    "  s = \"coroa\"\n",
    "print(s)"
   ]
  },
  {
   "cell_type": "markdown",
   "metadata": {
    "id": "SYJBG2a-Ik7y"
   },
   "source": [
    "<hr>"
   ]
  },
  {
   "cell_type": "markdown",
   "metadata": {
    "id": "kbWIZOERF-W2"
   },
   "source": [
    "# Simulando o valor de $\\pi$ através de sorteios\n",
    "\n",
    "No colégio, todos aprendemos a usar a constante $\\pi$ em Geometria para calcular a área de figuras geométricas, por exemplo. Aprendemos, também, que o valor da constante é de 3,1415926535... Nosso objetivo aqui é utilizar um modelo matemático simples para aproximar o valor de $\\pi$ (ou seja, simular os valores de $\\pi$ através de sorteios).\n",
    "\n",
    "Vamos usar o método de Monte Carlo, que se baseia nas propriedades dos números aleatórios.\n",
    "\n",
    ">**Observação:** No link https://www.youtube.com/watch?v=ELetCV_wX_c pode ser visualizada uma animação de simulação de valor $\\pi$, que pode facilitar o entendimento desta parte de Notebook.\n",
    ">\n",
    "> Outra boa animação pode ser encontrada em https://engaging-data.com/estimating-pi/ (clique no botão `start/stop` posicionado no lado esquerdo superior da janela). Observe como mudam os dados abaixo do botão, por exemplo, alguns dos valores:\n",
    "\n",
    ">![Captura de Tela 2021-03-26 às 01.03.16.png](data:image/png;base64,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)\n",
    "\n",
    "Para compreender o uso do método de Monte Carlo no cálculo de $\\pi$, vamos primeiro desenvolver algumas relações geométricas que nos levarão a uma equação para o valor da constante $\\pi$.\n",
    "\n",
    "\n",
    "Sabemos que a área de uma circunferência de raio $r = 1/2$ é\n",
    "\n",
    "$$A_{circ} = \\pi r^2 = \\pi/4$$\n",
    "\n",
    "Sabemos, ainda, que a área de um quadrado de lado $l=1$ é dada pela\n",
    "\n",
    "$$A_{quad} = l^2 = 1$$\n",
    "\n",
    "Veja que podemos colocar esta circunferência inscrita no quadrado, pois o diâmetro da circunferência é $2r = 1$ e o lado do quadrado também é 1:\n",
    "\n",
    "<img src=\"https://blog.professorferretto.com.br/wp-content/uploads/2019/08/raio-da-circunferencia-inscrita-no-quadrado.png\" width=\"300\" height=\"300\">\n",
    "\n",
    "A razão entre a área da circunferência e a área do quadrado é\n",
    "\n",
    "$$\\frac{A_{circ}}{A_{quad}} = \\frac{\\pi}{4}$$\n",
    "\n",
    "Ou seja,\n",
    "\n",
    "$$ \\pi = 4\\frac{A_{circ}}{A_{quad}} $$\n",
    "\n",
    "Suponha que sorteamos vários pontos no quadrado aleatoriamente.\n",
    "\n",
    "Para cada ponto, a coordenada x é sorteada entre 0 e 1 (com as mesmas chances para todos os números) e o mesmo vale para a coordenada y:\n",
    "\n",
    "<img src=\"https://www.researchgate.net/profile/Yiqun_Chen19/publication/341965356/figure/fig2/AS:899322442964993@1591426587361/Visualization-of-the-Monte-Carlo-approximation-of-Pi-p-i-i-i-i-ii-i-ii.ppm\">\n",
    "\n",
    "> Qual a probabilidade de cada ponto cair dentro da área do círculo?\n",
    "\n",
    "Ela é\n",
    "\n",
    "$$p = \\frac{A_{circ}}{A_{quad}}$$\n",
    "\n",
    "> E como vamos estimar probabilidade $p$?\n",
    "\n",
    "Com a simulação!\n",
    "\n",
    "Se sortearmos $n$ pontos e $n_{circ}$ pontos caírem dentro do círculo, então\n",
    "$\\frac{n_{circ}}{n}$ tem grandes chances de ser muito próximo de $p$ (se escolhermos $n$ grande)\n",
    "\n",
    "Então reveja nossas contas:\n",
    "\n",
    "$$ \\pi = 4\\frac{A_{circ}}{A_{quad}} = 4p \\approx\n",
    "4\\frac{n_{circ}}{n} $$\n",
    "\n",
    "Ou seja\n",
    "\n",
    "**$$ \\pi \\approx 4\\frac{n_{circ}}{n}$$**\n",
    "\n",
    "**Vamos usar esta última formula: $\\pi$ é aproximadamente 4 vezes numero de pontos dentro de círculo dividido por  número total de pontos.**\n",
    "\n",
    "> Vamos ver se dá certo!\n",
    "\n",
    "\n"
   ]
  },
  {
   "cell_type": "markdown",
   "metadata": {
    "id": "mlLWmrc6MMRL"
   },
   "source": [
    "**Primeiro veja como sortearmos $n$ pontos:**"
   ]
  },
  {
   "cell_type": "code",
   "execution_count": 4,
   "metadata": {
    "id": "krG8hAFPMZkK"
   },
   "outputs": [
    {
     "name": "stdout",
     "output_type": "stream",
     "text": [
      "0.8035036293823524 0.6846690708974152\n",
      "0.13005092602651147 0.8014158204307613\n",
      "0.9467105616690608 0.28264344725559387\n",
      "0.036572979783449755 0.9502800943606448\n",
      "0.6603426538128098 0.06569867314424038\n",
      "0.46119449660207823 0.7155564860059005\n",
      "0.5616634568239963 0.9895758945753703\n",
      "0.6124785900890207 0.08210436092987294\n",
      "0.56494513387346 0.5734953842419636\n",
      "0.3856874194520672 0.3890425093840554\n"
     ]
    }
   ],
   "source": [
    "n = 10               # neste caso n eh 10\n",
    "for i in range(0,n): # sorteamos n=10 pontos (1 ponto em cada rodada de for)\n",
    "  x = rd.random()       # sorteamos ponto x em intervalo [0,1]\n",
    "  y = rd.random()       # sorteamos ponto y em intervalo [0,1]\n",
    "  print(x,y)            #impriminos ponto x,y"
   ]
  },
  {
   "cell_type": "markdown",
   "metadata": {
    "id": "Z5-g5Y3-MTA2"
   },
   "source": [
    "**Como saber se um ponto $(x,y)$ está dentro do círculo**:\n",
    "\n",
    "O círculo tem centro $(0.5, 0.5)$ e o raio é $0.5$. Então $(x,y)$ se encontra dentro do círculo se a distância de $(x,y)$ para $(0.5, 0.5)$ é no máximo 0.5.\n",
    "\n",
    "A distância de $(x,y)$ para $(0.5, 0.5)$ é dada pela fórmula:\n",
    "$$\\sqrt{(x-0.5)^2 + (y-0.5)^2}.$$\n",
    "\n",
    "**Então, se**\n",
    "$$\\sqrt{(x-0.5)^2 + (y-0.5)^2} \\leq 0.5$$\n",
    "**o ponto $(x,y)$ está dentro do círculo. Caso contrário, está fora.**\n",
    "\n",
    "**O seguinte algoritmo imprime 10 pontos aleatórios, e para cada um imprime se está dentro ou fora de círculo**."
   ]
  },
  {
   "cell_type": "code",
   "execution_count": null,
   "metadata": {
    "id": "4p_peorvQAmg"
   },
   "outputs": [],
   "source": [
    "n = 10\n",
    "for i in range(0,n): # sorteamos n=10 pontos (1 ponto em cada rodada de laco)\n",
    "  x = rd.random()\n",
    "  y = rd.random()\n",
    "  print(x,y)\n",
    "  dist = ((x-0.5)**2 + (y-0.5)**2)**0.5  # dist calcula a distancia entre o ponto (x,y) e centro de circulo\n",
    "  if dist <= 0.5:                        # se dist <= 0.5, entao o ponto esta dentro de circulo\n",
    "    print(\"Dentro de circulo\\n\")            # lembre-se que o caractere \\n serve para quebra de linha (pula para proxima linha).\n",
    "  else:                                  # se dist > 0.5, entao o ponto esta fora de circulo\n",
    "    print(\"Fora de circulo\\n\")"
   ]
  },
  {
   "cell_type": "markdown",
   "metadata": {
    "id": "IM9uYg0INDQZ"
   },
   "source": [
    "Agora **vamos criar uma variável `ncirc` para contar quantos pontos estão dentro do círculo:**"
   ]
  },
  {
   "cell_type": "code",
   "execution_count": null,
   "metadata": {
    "id": "C45c5OAhspVZ"
   },
   "outputs": [],
   "source": [
    "n = 10\n",
    "ncirc = 0        # inicializamos ncirc por 0 no inicio de programa. ncirc vai contar o numero de pontos dentro de circulo\n",
    "\n",
    "for i in range(0,n):  # sorteamos 10 pontos (1 ponto em cada rodada de laco for)\n",
    "  x = rd.random()\n",
    "  y = rd.random()\n",
    "  print(x,y)\n",
    "  dist = ((x-0.5)**2 + (y-0.5)**2)**0.5\n",
    "  if dist <= 0.5:\n",
    "    print(\"Dentro\\n\")\n",
    "    ncirc = ncirc + 1     # o pronto (x,y) esta dentro de circulo, portanto aumentamos contador ncirc por 1\n",
    "  else:\n",
    "    print(\"Fora\\n\")\n",
    "\n",
    "print(\"Número de pontos dentro do círculo:\",ncirc) # fazemos impressao de resultado fora de laco for (apos sortear 10 pontos)\n",
    "print(\"Número total de pontos:\",n)\n",
    "p_est = ncirc/n  # p_est eh numero de pontos dentro de circulo (ncirc) dividido por  numero total de pontos (n)\n",
    "pi_est = 4*p_est # estimativa para pi eh 4*p_est (4 vezes numero de pontos dentro de circulo dividido por  numero total de pontos)\n",
    "print(\"Estimativa para p (probabilidade)\",p_est)\n",
    "print(\"Estimativa para pi\",pi_est)"
   ]
  },
  {
   "cell_type": "markdown",
   "metadata": {
    "id": "9URQuiEeqdXz"
   },
   "source": [
    "## Repetindo 100 vezes"
   ]
  },
  {
   "cell_type": "markdown",
   "metadata": {
    "id": "dhgbvtDxNahp"
   },
   "source": [
    "> Quão boa é a nossa aproximação para $\\pi$?\n",
    "\n",
    "Vamos importar a biblioteca `math` para verificar (precisamos de biblioteca `math` para comparar a diferenca entre o valor exato de pi que é `math.pi` com a nossa estimativa/aproximação).\n",
    "\n",
    "Vamos rodar com n=100. Tiramos os prints de dentro do for, pois fica difícil de ler.\n"
   ]
  },
  {
   "cell_type": "code",
   "execution_count": 19,
   "metadata": {
    "id": "bi8qJGU9N5qd"
   },
   "outputs": [
    {
     "name": "stdout",
     "output_type": "stream",
     "text": [
      "Número de pontos dentro do círculo: 77\n",
      "Número total de pontos: 100\n",
      "Estimativa para p (probabilidade) 0.77\n",
      "Estimativa para pi 3.08\n",
      "Erro 0.061592653589793045\n"
     ]
    }
   ],
   "source": [
    "import math\n",
    "n = 100 # agora n eh 100\n",
    "ncirc = 0\n",
    "for i in range(0,n):  # repetimos n=100 vezes, ou seja, sorteamos 100 pontos (um ponto em cada rodada de laco)\n",
    "  x = rd.random()\n",
    "  y = rd.random()\n",
    "  dist = ((x-0.5)**2 + (y-0.5)**2)**0.5\n",
    "  if dist < 0.5:\n",
    "    ncirc = ncirc + 1\n",
    "\n",
    "print(\"Número de pontos dentro do círculo:\",ncirc) # imprimimos resultados fora de for, ou seja, apos 100 rodadas (em cada rodada escolhemos um ponto aleatoreo)\n",
    "print(\"Número total de pontos:\",n)\n",
    "p_est = ncirc/n\n",
    "pi_est = 4*p_est\n",
    "print(\"Estimativa para p (probabilidade)\",p_est)\n",
    "print(\"Estimativa para pi\",pi_est)\n",
    "print(\"Erro\", abs(math.pi - pi_est))  # imprmimos o Erro, que eh valor absoluto de diferenca entre o valor exato de pi (math.pi) e a nossa estimativa (pi_est)"
   ]
  },
  {
   "cell_type": "markdown",
   "metadata": {
    "id": "K5W1CsPaN0BB"
   },
   "source": [
    "Rode a célula aacima várias vezes para ver o que acontece.\n",
    "\n",
    "Como você pode ver, o quão boa fica a estimativa varia bastante.\n",
    "\n"
   ]
  },
  {
   "cell_type": "markdown",
   "metadata": {
    "id": "8Vqy5S9iqvDd"
   },
   "source": [
    "## Repetindo n vezes\n",
    "\n",
    "Vamos fazer uma comparação para os valores de $n$: 10,100,1000,10000,50000,100000."
   ]
  },
  {
   "cell_type": "code",
   "execution_count": null,
   "metadata": {
    "id": "03BdygvGOHwT"
   },
   "outputs": [],
   "source": [
    "import math\n",
    "\n",
    "valores = [10,100,1000,10000,50000,100000,100000]  # valores eh uma lista com numeros 10, 100, 1000, etc\n",
    "\n",
    "for n in valores: # laco EXTERNO: na primeira rodada de laco externo, n eh 10; na segunda rodada, n eh 100, etc\n",
    "  ncirc = 0            # inicializamos ncirc com 0 ates de comecar o jogo numa certa rodada de laco\n",
    "  for i in range(0,n): # laco INTERNO: repetimos n vezes, ié, sorteamos n pontos, para cada valor de n no laco externo: primeiro n eh 10; depois n eh 100, etc\n",
    "    x = rd.random()\n",
    "    y = rd.random()\n",
    "    dist = ((x-0.5)**2 + (y-0.5)**2)**0.5\n",
    "    if dist < 0.5:\n",
    "      ncirc = ncirc + 1\n",
    "\n",
    "  # imprimimos resultado e erro apos 10 rodadas, apos 100 rodadas....apos 100000 rodadas\n",
    "  # note que esta parte fica fora de bloco de laco INTERNO, e dentro de bloco de laco EXTERNO\n",
    "  print(\"Número de pontos dentro do círculo:\",ncirc)\n",
    "  print(\"Número total de pontos:\",n)\n",
    "  p_est = ncirc/n\n",
    "  pi_est = 4*p_est\n",
    "  print(\"Estimativa para p\",p_est)\n",
    "  print(\"Estimativa para pi\",pi_est)\n",
    "  print(\"Erro\", abs(math.pi - pi_est))\n",
    "  print() # imprimimos linha vazia\n"
   ]
  },
  {
   "cell_type": "markdown",
   "metadata": {
    "id": "HlSSil1xOy3H"
   },
   "source": [
    "**Note como a estimativa para $\\pi$ tende a melhorar (e erro diminuir) quando AUMENTAMOS $n$.**\n",
    "\n",
    "Logo, a simulação deu certo."
   ]
  },
  {
   "cell_type": "markdown",
   "metadata": {
    "id": "zitqWdoJ2FiX"
   },
   "source": [
    "## Exercício 1\n",
    "\n",
    "Faça uma simulação com 50 repetições, com 100 pontos sorteados a cada repetição. Calcule a média de erro (onde erro é valor absoluto de diferença entre o valor exato de $\\pi$ e a nossa estimativa obtida para $\\pi$ em cada repetição de jogo).\n",
    "\n"
   ]
  },
  {
   "cell_type": "code",
   "execution_count": 29,
   "metadata": {},
   "outputs": [
    {
     "name": "stdout",
     "output_type": "stream",
     "text": [
      "0.11100888156922484\n"
     ]
    }
   ],
   "source": [
    "import numpy as np\n",
    "erros = []\n",
    "for n in range(0,50):\n",
    "    ncirc = 0\n",
    "    for i in range (0,100):\n",
    "        x = rd.random()\n",
    "        y = rd.random()\n",
    "        dist = ((x-0.5)**2 + (y-0.5)**2)**0.5\n",
    "        if dist < 0.5:\n",
    "            ncirc = ncirc + 1\n",
    "    p_est = ncirc/100\n",
    "    pi_est = 4*p_est\n",
    "    erro = abs(math.pi - pi_est)\n",
    "    erros.append(erro)\n",
    "    media = np.mean(erros)\n",
    "print(media)\n",
    "\n",
    "\n"
   ]
  },
  {
   "cell_type": "markdown",
   "metadata": {
    "id": "iCIp9_ei-Cp2"
   },
   "source": [
    "## Exercício 2\n",
    "\n",
    "Na simulação do jogo de azar, compare as seguintes estratégias de aposta:\n",
    "1. Estratégia 1: O jogador aposta sempre 20 reais;\n",
    "2. Estratégia 2: Se o jogador tem menos do que 100 reais, ele aposta todo seu dinheiro. Caso possua mais do que 100 reais, ele aposta a quantidade necessária para chegar em 200. Por exemplo, se ele possui 10 reais, ele apostará 10 reais. Se ele possui 120 reais, ele apostará 80 reais.\n",
    "\n",
    "Use a semente 0 para ambas as simulações e probabilidade $p=0.4$ para ganhar. Repita cada simulação 1000 vezes. Calcule a quantidade de vezes que o jogador prosperou. Qual a melhor estratégia? "
   ]
  },
  {
   "cell_type": "code",
   "execution_count": null,
   "metadata": {},
   "outputs": [],
   "source": []
  }
 ],
 "metadata": {
  "colab": {
   "provenance": []
  },
  "kernelspec": {
   "display_name": "Python 3 (ipykernel)",
   "language": "python",
   "name": "python3"
  },
  "language_info": {
   "codemirror_mode": {
    "name": "ipython",
    "version": 3
   },
   "file_extension": ".py",
   "mimetype": "text/x-python",
   "name": "python",
   "nbconvert_exporter": "python",
   "pygments_lexer": "ipython3",
   "version": "3.10.13"
  }
 },
 "nbformat": 4,
 "nbformat_minor": 4
}
